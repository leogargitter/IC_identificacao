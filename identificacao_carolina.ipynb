{
 "metadata": {
  "language_info": {
   "codemirror_mode": {
    "name": "ipython",
    "version": 3
   },
   "file_extension": ".py",
   "mimetype": "text/x-python",
   "name": "python",
   "nbconvert_exporter": "python",
   "pygments_lexer": "ipython3",
   "version": "3.7.9-final"
  },
  "orig_nbformat": 2,
  "kernelspec": {
   "name": "python3",
   "display_name": "Python 3.7.9 64-bit",
   "metadata": {
    "interpreter": {
     "hash": "4716475fc5597343ad2da5ac04705eed59773d7c903e3c421f67beef8b3526b2"
    }
   }
  }
 },
 "nbformat": 4,
 "nbformat_minor": 2,
 "cells": [
  {
   "source": [
    "# Método de identificação descrito no trabalho da Carolina\n",
    "\n",
    "Primeiramente é realizada a importação das bibliotecas e dados a serem utilizados para o cálculo do modelo:\n",
    "\n",
    "## Importação de bibliotecas e dados e definição dos parâmetros:"
   ],
   "cell_type": "markdown",
   "metadata": {}
  },
  {
   "cell_type": "code",
   "execution_count": 113,
   "metadata": {},
   "outputs": [],
   "source": [
    "# IMPORTAÇÃO DAS BIBLIOTECAS E DADOS\n",
    "\n",
    "from scipy.io import *\n",
    "from scipy import *\n",
    "from numpy import *\n",
    "from matplotlib.pyplot import *\n",
    "\n",
    "\n",
    "mat = loadmat('data_LDMOS.mat')\n",
    "in_ext = mat['in_extraction']\n",
    "out_ext = mat['out_extraction']\n",
    "in_val = mat['in_validation']\n",
    "out_val = mat['out_validation']\n",
    "\n",
    "# DEFINIÇÃO DOS PARÂMETROS DO MODELO\n",
    "# nesse método de identificação basta definir o valor do efeito de memória M, já que não depende de P\n",
    "\n",
    "M = 2\n",
    "\n",
    "# n é o parâmetro que define o valor de Q (número de entradas da LUT), sendo Q=2^n\n",
    "\n",
    "n = 1\n",
    "\n",
    "# DEFINIÇÃO DO VETOR DE ENTRADA DAS LUTs\n",
    "# é um vetor que varia igualmente de 0 a Q=2^n\n",
    "\n",
    "e_lut = linspace(0,1,2**n)"
   ]
  },
  {
   "source": [
    "A seguir são calculadas as matrizes x_nm e abs_x_nm. Essas matrizes são apenas os valores de entrada do vetor de extração considerando o efeito de memória. O único propósito de se definir essas matrizes agora é facilitar a implementação das próximas etapas.\n",
    "\n",
    "\\begin{equation}\n",
    "x\\_nm = \n",
    "\\begin{bmatrix}\n",
    "\\tilde{x}(M+1) & \\tilde{x}(M) & \\dots & \\tilde{x}(1)\\\\\n",
    " & \\vdots & & \\\\\n",
    "\\tilde{x}(n) & \\tilde{x}(n-M) & \\dots & \\tilde{x}(n-(M+1))\\\\\n",
    "\\end{bmatrix}\n",
    "\\end{equation}\n",
    "\n",
    "\\begin{equation}\n",
    "abs\\_x\\_nm = \n",
    "\\begin{bmatrix}\n",
    "|\\tilde{x}(M+1)| & |\\tilde{x}(M)| & \\dots & |\\tilde{x}(1)|\\\\\n",
    " & \\vdots & & \\\\\n",
    "|\\tilde{x}(n)| & |\\tilde{x}(n-M)| & \\dots & |\\tilde{x}(n-(M+1))|\\\\\n",
    "\\end{bmatrix}\n",
    "\\end{equation}"
   ],
   "cell_type": "markdown",
   "metadata": {}
  },
  {
   "cell_type": "code",
   "execution_count": 114,
   "metadata": {},
   "outputs": [],
   "source": [
    "# DEFINIÇÂO DAS MATRIZES CONTENDO OS VALORES DE x(n-m) e |x(n-m)|\n",
    "def x_n_m(entrada, M):\n",
    "    x_nm = empty((len(entrada),(M+1)),dtype=complex)\n",
    "    for r in range(M+1,len(entrada)):\n",
    "        for m in range(0,M+1,1):\n",
    "            x_nm[r,m] = entrada[r-m]\n",
    "    return x_nm\n",
    "\n",
    "x_nm  = x_n_m(in_ext,M)[M+1:-1,:]\n",
    "abs_x_nm = abs(x_nm)\n"
   ]
  },
  {
   "source": [
    "## Montagem da matriz $X_{LUT}$\n",
    "\n",
    "Nessa etapa é montada a matriz $X_{LUT}$ seguindo o formato descrito no mestrado da Carolina:\n",
    "\n",
    "\\begin{equation}\n",
    "\n",
    "    X_{LUT} = \n",
    "    \\begin{bmatrix}\n",
    "        1blocodeQcolunasdalinha1 & 2blocodeQcolunasdalinha1 & \\dots & (M+1)-ésimoblocodeQcolunasdalinha1\\\\\n",
    "         & \\vdots & & \\\\\n",
    "        1blocodeQcolunasdalinha(n-M) & 2blocodeQcolunasdalinha(n-M) & \\dots & (M+1)-ésimoblocodeQcolunasdalinha(n-M)\\\\\n",
    "    \\end{bmatrix}  \n",
    "    \n",
    "    \n",
    "\\end{equation}\n",
    "\n",
    "Os blocos de Q colunas devem ser preenchidos com os seguintes valores: \n",
    "\n",
    "\n",
    "\\begin{equation}\n",
    "    Valor_{(q-1)_{esimacoluna}} = \\tilde{x}(n-m) \\left[ 1 - \\frac{[|\\tilde{x}(n-m)| - e_{m(q-1)}]}{e_{m(q)} - e_{m(q-1)}} \\right]\n",
    "\\end{equation}\n",
    "\n",
    "\\begin{equation}\n",
    "    Valor_{(q)_{esimacoluna}} = \\tilde{x}(n-m) \\left[ \\frac{[|\\tilde{x}(n-m)| - e_{m(q-1)}]}{e_{m(q)} - e_{m(q-1)}} \\right]\n",
    "\\end{equation}\n",
    "\n",
    "E a inserção desses valores na matriz $X_{LUT}$ deve respeitar a condição $e_{m(q-1)} < |\\tilde{x}(n-m)| < e_{m(q)}$.\n",
    "\n",
    "A implementação foi realizada através de uma função denominada *xlut*. Essa função recebe como entrada as entradas da LUT, as matrizes x\\_nm e abs\\_x\\_nm, o valor de M e o valor de n e retorna a matriz $X_{LUT}$.\n",
    "\n"
   ],
   "cell_type": "markdown",
   "metadata": {}
  },
  {
   "cell_type": "code",
   "execution_count": 115,
   "metadata": {
    "tags": []
   },
   "outputs": [],
   "source": [
    "def xlut(e_lut, x_nm, abs_x_nm, M, n):\n",
    "    Q = 2**n\n",
    "    #Nesse primero loop é calculado o primero bloco de Q colunas\n",
    "    x_lut = zeros((len(x_nm),Q),dtype = \"complex_\")\n",
    "    for r in range(len(x_nm)):\n",
    "        for c in range(1,Q,2):\n",
    "            #Aqui se aplica a condição mencionada anteriormente\n",
    "            if e_lut[c-1] < abs_x_nm[r,0] < e_lut[c]:\n",
    "                #As 2 próximas linhas são as formulas para os valores\n",
    "                x_lut[r,c] = x_nm[r,0] * ((abs_x_nm[r,0] - e_lut[c-1])/((e_lut[c] - e_lut[c-1])))\n",
    "                x_lut[r,c-1] = x_nm[r,0] * (1 - ((abs_x_nm[r,0] - e_lut[c-1])/((e_lut[c] - e_lut[c-1]))))\n",
    "\n",
    "    #A partir daqui a função só continua se M>=1, os calculos se repetem para valores de M diferentes e os blocos calculados são juntados aos anteriores resultando na matriz X_LUT\n",
    "    if M>=1:\n",
    "        for m in range(1, M+1):\n",
    "            x_lut_temp = zeros((len(x_nm),Q),dtype = \"complex_\")\n",
    "            for r in range(len(x_nm)):\n",
    "                for c in range(1,Q,2):\n",
    "                    if e_lut[c-1] < abs_x_nm[r,m] < e_lut[c]:\n",
    "                        x_lut_temp[r,c] = x_nm[r,m] * ((abs_x_nm[r,m] - e_lut[c-1])/((e_lut[c] - e_lut[c-1])))\n",
    "                        x_lut_temp[r,c-1] = x_nm[r,m] * (1 - ((abs_x_nm[r,m] - e_lut[c-1])/((e_lut[c] - e_lut[c-1]))))\n",
    "\n",
    "            x_lut = concatenate((x_lut,x_lut_temp), axis=1)                 \n",
    "    return x_lut\n",
    "\n",
    "x_lut = xlut(e_lut, x_nm, abs_x_nm, M, n)"
   ]
  },
  {
   "source": [
    "## Cálculo das saídas da LUT\n",
    "\n",
    "Com a matriz $X_{LUT}$ calculada obter as saídas complexas da LUT fica simples, apenas aplicamos a formula a seguir para realizar o MMQ: \n",
    "\n",
    "\n",
    "\\begin{equation}\n",
    "    s = (X_{LUT}^* X_{LUT})^{-1} (X_{LUT}^* Y) =\n",
    "    \\begin{bmatrix}\n",
    "    \\tilde{s}_{01} \\\\\n",
    "    \\vdots \\\\\n",
    "    \\tilde{s}_{0Q} \\\\\n",
    "    \\vdots \\\\\n",
    "    \\tilde{s}_{M1} \\\\\n",
    "    \\vdots \\\\\n",
    "    \\tilde{s}_{MQ}\n",
    "    \\end{bmatrix}\n",
    "\\end{equation}\n",
    "\n",
    "A função *slut* aplica essa fórmula e separa os valores em uma matriz com Q linhas e 2*(M+1) colunas, separando as partes real e imaginária das saídas."
   ],
   "cell_type": "markdown",
   "metadata": {}
  },
  {
   "cell_type": "code",
   "execution_count": 116,
   "metadata": {},
   "outputs": [],
   "source": [
    "def slut(x_lut, out_ext, M, n):\n",
    "    # A propriedade de matrizes .H do Numpy aplica o operador transposto complexo conjugado. A propriedade .I representa a matriz inversa.\n",
    "    x1 = asmatrix(x_lut).H\n",
    "    s_lut = asmatrix(x1@x_lut).I@asmatrix(x1@out_ext[M+1:-1,:])\n",
    "\n",
    "    # Transformação do vetor s_lut em uma matriz de números reais.\n",
    "    lut = empty((int(len(s_lut)/(M+1)), 2*(M+1)))\n",
    "    rl = 0\n",
    "    for c in range(1,2*(M+1),2):\n",
    "        for r in range(2**n):\n",
    "            lut[r,c] = imag(s_lut[rl])\n",
    "            lut[r,c-1] = real(s_lut[rl])\n",
    "            rl+=1\n",
    "    return lut\n",
    "\n",
    "s_lut = slut(x_lut, out_ext, M, n)"
   ]
  },
  {
   "source": [
    "## Interpolação\n",
    "\n",
    "A partir desse ponto eu reaproveitei o código da IC anterior. Deixei a matriz da célula anterior no mesmo formato que utilizei no meu último trabalho para usar a mesma função de interpolação. Essa parte eu não me recordo 100% como foi implementada, portanto ainda preciso revisar."
   ],
   "cell_type": "markdown",
   "metadata": {}
  },
  {
   "cell_type": "code",
   "execution_count": 117,
   "metadata": {},
   "outputs": [],
   "source": [
    "def interpolacao(entrada,lut,M,n):\n",
    "    Q = 2**n\n",
    "    z = linspace(0,1,Q) \n",
    "    abs_in = np.abs(entrada)\n",
    "    abs_in = abs_in[M+1:-1,:]\n",
    "    inter = interp(abs_in,z,lut[:,0])\n",
    "    for c in range(1,2*(M+1)):\n",
    "        inter2 = interp(abs_in,z,lut[:,c])\n",
    "        inter = append(inter,inter2,axis=1)\n",
    "    \n",
    "    real = zeros((len(inter),1))\n",
    "    imag = zeros((len(inter),1))\n",
    "    for c in range(0,2*(M+1),2):\n",
    "        real = add(real,inter[:,c].reshape(len(inter),1))\n",
    "        imag = add(imag,inter[:,c+1].reshape(len(inter),1))\n",
    "    interpol = real + (imag * 1j)\n",
    "    return interpol\n",
    "\n",
    "inter = interpolacao(in_val,s_lut,M,n)\n",
    "in_val_lut = in_val[M+1:-1,:]\n",
    "out_val_lut = out_val[M+1:-1,:]\n",
    "out_lut = inter*in_val_lut"
   ]
  },
  {
   "source": [
    "A célula anterior já calcula a saída do modelo. Para finalizar só resta aplicar o NMSE:"
   ],
   "cell_type": "markdown",
   "metadata": {}
  },
  {
   "cell_type": "code",
   "execution_count": 118,
   "metadata": {},
   "outputs": [
    {
     "output_type": "stream",
     "name": "stdout",
     "text": [
      "-31.403665178185562\n"
     ]
    }
   ],
   "source": [
    "def NMSE(previsao,validacao):\n",
    "    erro = validacao - previsao\n",
    "    erro = np.sum(np.absolute(erro)**2)\n",
    "    val = np.sum(np.absolute(validacao)**2)\n",
    "    res = 10*np.log10(erro/val)\n",
    "    return res\n",
    "\n",
    "NMSE_lut = NMSE(out_lut,out_val_lut)\n",
    "print(NMSE_lut)"
   ]
  },
  {
   "source": [
    "Para simplificar a obtenção dos resultados juntei todos os passos na função a seguir e calculei o NMSE para diversos valores de M e n."
   ],
   "cell_type": "markdown",
   "metadata": {}
  },
  {
   "cell_type": "code",
   "execution_count": 119,
   "metadata": {},
   "outputs": [],
   "source": [
    "def identificacao_carolina(in_ext,out_ext,in_val,out_val,M,n):\n",
    "    e_lut = linspace(0,1,2**n)\n",
    "    x_nm  = x_n_m(in_ext,M)[M+1:-1,:]\n",
    "    abs_x_nm = abs(x_nm)\n",
    "    x_lut = xlut(e_lut, x_nm, abs_x_nm, M, n)\n",
    "    s_lut = slut(x_lut, out_ext, M, n)\n",
    "    inter = interpolacao(in_val,s_lut,M,n)\n",
    "    in_val_lut = in_val[M+1:-1,:]\n",
    "    out_val_lut = out_val[M+1:-1,:]\n",
    "    out_lut = inter*in_val_lut\n",
    "    NMSE_lut = NMSE(out_lut,out_val_lut)\n",
    "    return NMSE_lut"
   ]
  },
  {
   "cell_type": "code",
   "execution_count": 120,
   "metadata": {},
   "outputs": [
    {
     "output_type": "stream",
     "name": "stdout",
     "text": [
      "Para M=0 e n=1 -> NMSE=-31.469181228314504\n",
      "Para M=0 e n=2 -> NMSE=-33.03213895105498\n",
      "Para M=0 e n=3 -> NMSE=-35.05884472712828\n",
      "Para M=0 e n=4 -> NMSE=-35.17386937211664\n",
      "Para M=1 e n=1 -> NMSE=-31.416260557357766\n",
      "Para M=1 e n=2 -> NMSE=-14.349768236497916\n",
      "Para M=1 e n=3 -> NMSE=-13.141703441250138\n",
      "Para M=1 e n=4 -> NMSE=-10.176046146191284\n",
      "Para M=2 e n=1 -> NMSE=-31.403665178185562\n",
      "Para M=2 e n=2 -> NMSE=-9.43748505748752\n",
      "Para M=2 e n=3 -> NMSE=-8.363051250840494\n",
      "Para M=2 e n=4 -> NMSE=-6.822553732507686\n",
      "Para M=3 e n=1 -> NMSE=-31.319844849446554\n",
      "Para M=3 e n=2 -> NMSE=-6.51754891959441\n",
      "Para M=3 e n=3 -> NMSE=-6.678221614549652\n",
      "Para M=3 e n=4 -> NMSE=-5.584116586787607\n",
      "Para M=4 e n=1 -> NMSE=-31.30335839782066\n",
      "Para M=4 e n=2 -> NMSE=-5.184218132063682\n",
      "Para M=4 e n=3 -> NMSE=-5.977617552887192\n",
      "Para M=4 e n=4 -> NMSE=-5.2080103360347385\n"
     ]
    }
   ],
   "source": [
    "for M in range(5):\n",
    "    for n in range(1,5):\n",
    "        print(f'Para M={M} e n={n} -> NMSE={identificacao_carolina(in_ext,out_ext,in_val,out_val,M,n)}')"
   ]
  },
  {
   "source": [
    "Observando os resultados acima é notável que quando os valores de n e M são menores o modelo apresenta um resultado superior."
   ],
   "cell_type": "markdown",
   "metadata": {}
  }
 ]
}