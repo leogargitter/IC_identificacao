{
 "metadata": {
  "language_info": {
   "codemirror_mode": {
    "name": "ipython",
    "version": 3
   },
   "file_extension": ".py",
   "mimetype": "text/x-python",
   "name": "python",
   "nbconvert_exporter": "python",
   "pygments_lexer": "ipython3",
   "version": "3.7.9-final"
  },
  "orig_nbformat": 2,
  "kernelspec": {
   "name": "python3",
   "display_name": "Python 3.7.9 64-bit",
   "metadata": {
    "interpreter": {
     "hash": "4716475fc5597343ad2da5ac04705eed59773d7c903e3c421f67beef8b3526b2"
    }
   }
  }
 },
 "nbformat": 4,
 "nbformat_minor": 2,
 "cells": [
  {
   "source": [
    "Para o relatório parcial na foi necessário ser feita a reprodução do método de identificação proposto no trabalho da Carolina para o modelo MP.\n",
    "\n",
    "## Modelo MP:\n",
    "\n",
    "\\begin{equation}\n",
    "\\tilde{y}(n) = \\sum^P_{p=1}\\sum^M_{m=0} \\tilde{b}_{mp} \\tilde{x}(n-m) |\\tilde{x}(n-m)|^{p-1} \n",
    "\\end{equation}\n"
   ],
   "cell_type": "markdown",
   "metadata": {}
  },
  {
   "cell_type": "code",
   "execution_count": 1,
   "metadata": {},
   "outputs": [],
   "source": [
    "# IMPORTAÇÃO DAS BIBLIOTECAS E DADOS\n",
    "\n",
    "from scipy.io import *\n",
    "from scipy import *\n",
    "from numpy import *\n",
    "from matplotlib.pyplot import *\n",
    "\n",
    "\n",
    "mat = loadmat('data_LDMOS.mat')\n",
    "in_ext = mat['in_extraction']\n",
    "out_ext = mat['out_extraction']\n",
    "in_val = mat['in_validation']\n",
    "out_val = mat['out_validation']"
   ]
  },
  {
   "source": [
    "\\begin{equation}\n",
    "\n",
    "    X_{LUT} = \n",
    "    \\begin{bmatrix}\n",
    "        1blocodeQcolunasdalinha1 & 2blocodeQcolunasdalinha1 & \\dots & (M+1)-ésimoblocodeQcolunasdalinha1\\\\\n",
    "         & \\vdots & & \\\\\n",
    "        1blocodeQcolunasdalinha(n-M) & 2blocodeQcolunasdalinha(n-M) & \\dots & (M+1)-ésimoblocodeQcolunasdalinha(n-M)\\\\\n",
    "    \\end{bmatrix}  \n",
    "    \n",
    "    \n",
    "\\end{equation}\n",
    "\n",
    "\n",
    "\n",
    "\\begin{equation} \n",
    "    X_{LUT} = \n",
    "    \\begin{bmatrix}\n",
    "    \\tilde{x}(1+M) f_0^{LUT}(|\\tilde{x}(1+M)|) & \\tilde{x}(M) f_1^{LUT}(|\\tilde{x}(M)|) & \\dots &  \\tilde{x}(1) f_M^{LUT}(|\\tilde{x}(1)|)\\\\\n",
    "     & \\vdots & & \\\\\n",
    "    \\tilde{x}(n) f_0^{LUT}(|\\tilde{x}(n)|) & \\tilde{x}(n-1) f_1^{LUT}(|\\tilde{x}(n-1)|) & \\dots &  \\tilde{x}(n-M) f_M^{LUT}(|\\tilde{x}(n-M)|)\n",
    "    \\end{bmatrix}\n",
    "\\end{equation}\n",
    "\n",
    "\n",
    "\\begin{equation}\n",
    "    Valor_{(q-1)_{esimacoluna}} = \\tilde{x}(n-m) \\left[ 1 - \\frac{[|\\tilde{x}(n-m)| - e_{m(q-1)}]}{e_{m(q)} - e_{m(q-1)}} \\right]\n",
    "\\end{equation}\n",
    "\n",
    "\\begin{equation}\n",
    "    Valor_{(q)_{esimacoluna}} = \\tilde{x}(n-m) \\left[ \\frac{[|\\tilde{x}(n-m)| - e_{m(q-1)}]}{e_{m(q)} - e_{m(q-1)}} \\right]\n",
    "\\end{equation}\n",
    "\n",
    "\n",
    "\n",
    "\\begin{equation}\n",
    "    s = (X_{LUT}^* X_{LUT})^{-1} (X_{LUT}^* Y) =\n",
    "    \\begin{bmatrix}\n",
    "    \\tilde{s}_{01} \\\\\n",
    "    \\vdots \\\\\n",
    "    \\tilde{s}_{0Q} \\\\\n",
    "    \\vdots \\\\\n",
    "    \\tilde{s}_{M1} \\\\\n",
    "    \\vdots \\\\\n",
    "    \\tilde{s}_{MQ}\n",
    "    \\end{bmatrix}\n",
    "\\end{equation}\n"
   ],
   "cell_type": "markdown",
   "metadata": {}
  },
  {
   "cell_type": "code",
   "execution_count": 58,
   "metadata": {},
   "outputs": [],
   "source": [
    "# DEFINIÇÃO DOS PARÂMETROS DO MODELO\n",
    "P = 3\n",
    "M = 2\n",
    "\n",
    "# n é o parâmetro que define o valor de Q (número de entradas da LUT), sendo Q=2^n\n",
    "n = 2\n",
    "\n",
    "# DEFINIÇÃO DO VETOR DE ENTRADA DAS LUTs\n",
    "e_lut = linspace(0,1,2**n)\n",
    "\n",
    "\n",
    "# DEFINIÇÂO DAS MATRIZES CONTENDO OS VALORES DE x(n-m) e |x(n-m)|\n",
    "def x_n_m(entrada, M, P):\n",
    "    x_nm = empty((len(entrada),(M+1)),dtype=complex)\n",
    "    for r in range(M+1,len(entrada)):\n",
    "        for m in range(0,M+1,1):\n",
    "            x_nm[r,m] = entrada[r-m]\n",
    "    return x_nm\n",
    "\n",
    "x_nm  = x_n_m(in_ext,M,P)[M+1:-1,:]\n",
    "abs_x_nm = abs(x_nm)\n"
   ]
  },
  {
   "cell_type": "code",
   "execution_count": 59,
   "metadata": {
    "tags": []
   },
   "outputs": [],
   "source": [
    "def xlut(e_lut, x_nm, abs_x_nm, M, n):\n",
    "    Q = 2**n\n",
    "    x_lut = empty((len(x_nm),Q),dtype = \"complex_\")\n",
    "    for r in range(len(x_nm)):\n",
    "        for c in range(1,Q,2):\n",
    "            x_lut[r,c] = x_nm[r,0] * ((abs_x_nm[r,0] - e_lut[c-1])/((e_lut[c] - e_lut[c-1])))\n",
    "            x_lut[r,c-1] = x_nm[r,0] * (1 - ((abs_x_nm[r,0] - e_lut[c-1])/((e_lut[c] - e_lut[c-1]))))\n",
    "\n",
    "    if M>=1:\n",
    "        for m in range(1, M+1):\n",
    "\n",
    "            x_lut_temp = empty((len(x_nm),Q),dtype = \"complex_\")\n",
    "            for r in range(len(x_nm)):\n",
    "                for c in range(1,Q,2):\n",
    "                            x_lut_temp[r,c] = x_nm[r,m] * ((abs_x_nm[r,m] - e_lut[c-1])/((e_lut[c] - e_lut[c-1])))\n",
    "                            x_lut_temp[r,c-1] = x_nm[r,m] * (1 - ((abs_x_nm[r,m] - e_lut[c-1])/((e_lut[c] - e_lut[c-1]))))\n",
    "\n",
    "            x_lut = concatenate((x_lut,x_lut_temp), axis=1)                 \n",
    "    return x_lut\n",
    "\n",
    "x_lut = xlut(e_lut, x_nm, abs_x_nm, M, n)"
   ]
  },
  {
   "cell_type": "code",
   "execution_count": 67,
   "metadata": {},
   "outputs": [
    {
     "output_type": "execute_result",
     "data": {
      "text/plain": [
       "array([[ 6.03016494e+14, -2.57937997e+13,  3.02952709e+14,\n",
       "        -9.49077481e+12, -2.88892299e+12, -6.81225005e+12],\n",
       "       [ 6.03016494e+14, -2.57937997e+13,  3.02952709e+14,\n",
       "        -9.49077481e+12, -2.88892299e+12, -6.81225005e+12],\n",
       "       [ 6.03016494e+14, -2.57937997e+13,  3.02952709e+14,\n",
       "        -9.49077481e+12, -2.88892299e+12, -6.81225005e+12],\n",
       "       [ 6.03016494e+14, -2.57937997e+13,  3.02952709e+14,\n",
       "        -9.49077481e+12, -2.88892299e+12, -6.81225005e+12]])"
      ]
     },
     "metadata": {},
     "execution_count": 67
    }
   ],
   "source": [
    "x1 = asmatrix(x_lut).H\n",
    "s_lut = asmatrix(x1@x_lut).I@(x1@out_ext[M+1:-1,:])\n",
    "\n",
    "lut = empty((int(len(s_lut)/(M+1)), 2*(M+1)))\n",
    "rl = -1\n",
    "for c in range(1,2*(M+1),2):\n",
    "    rl+=1\n",
    "    for r in range(2**n):\n",
    "        lut[r,c] = imag(s_lut[rl])\n",
    "        lut[r,c-1] = real(s_lut[rl])\n",
    "lut"
   ]
  },
  {
   "cell_type": "code",
   "execution_count": 61,
   "metadata": {},
   "outputs": [],
   "source": [
    "def interpolacao(entrada,lut,M,n):\n",
    "    Q = 2**n\n",
    "    z = np.linspace(0,1,Q) \n",
    "    abs_in = np.abs(entrada)\n",
    "    abs_in = abs_in[M+1:-1,:]\n",
    "    inter = np.interp(abs_in,z,lut[:,0])\n",
    "    for c in range(1,2*(M+1)):\n",
    "        inter2 = np.interp(abs_in,z,lut[:,c])\n",
    "        inter = np.append(inter,inter2,axis=1)\n",
    "    \n",
    "    real = np.zeros((len(inter),1))\n",
    "    imag = np.zeros((len(inter),1))\n",
    "    for c in range(0,2*(M+1),2):\n",
    "        real = np.add(real,inter[:,c].reshape(len(inter),1))\n",
    "        imag = np.add(imag,inter[:,c+1].reshape(len(inter),1))\n",
    "    interpol = real + (imag * 1j)\n",
    "    return interpol"
   ]
  }
 ]
}