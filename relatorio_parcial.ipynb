{
 "metadata": {
  "language_info": {
   "codemirror_mode": {
    "name": "ipython",
    "version": 3
   },
   "file_extension": ".py",
   "mimetype": "text/x-python",
   "name": "python",
   "nbconvert_exporter": "python",
   "pygments_lexer": "ipython3",
   "version": "3.7.9-final"
  },
  "orig_nbformat": 2,
  "kernelspec": {
   "name": "python3",
   "display_name": "Python 3.7.9 64-bit",
   "metadata": {
    "interpreter": {
     "hash": "4716475fc5597343ad2da5ac04705eed59773d7c903e3c421f67beef8b3526b2"
    }
   }
  }
 },
 "nbformat": 4,
 "nbformat_minor": 2,
 "cells": [
  {
   "source": [
    "Para o relatório parcial na foi necessário ser feita a reprodução do método de identificação proposto no trabalho da Carolina para o modelo MP.\n",
    "\n",
    "## Modelo MP:\n",
    "\n",
    "\\begin{equation}\n",
    "\\tilde{y}(n) = \\sum^P_{p=1}\\sum^M_{m=0} \\tilde{b}_{mp} \\tilde{x}(n-m) |\\tilde{x}(n-m)|^{p-1} \n",
    "\\end{equation}\n"
   ],
   "cell_type": "markdown",
   "metadata": {}
  },
  {
   "cell_type": "code",
   "execution_count": 20,
   "metadata": {},
   "outputs": [],
   "source": [
    "# IMPORTAÇÃO DAS BIBLIOTECAS E DADOS\n",
    "\n",
    "import scipy.io as spio\n",
    "import scipy as sp\n",
    "import numpy as np\n",
    "import matplotlib.pyplot as plt\n",
    "\n",
    "\n",
    "mat = spio.loadmat('data_LDMOS.mat')\n",
    "in_ext = mat['in_extraction']\n",
    "out_ext = mat['out_extraction']\n",
    "in_val = mat['in_validation']\n",
    "out_val = mat['out_validation']"
   ]
  },
  {
   "source": [
    "\\begin{equation}\n",
    "f^{pol}_{m}(|\\tilde{x}(n-m)|)~f^{LUT}_{m}(|\\tilde{x}(n-m)|) = \\tilde{s}_{m(q-1)} + \\left[ \\frac{\\tilde{s}_{m(q)} - \\tilde{s}_{m(q-1)}}{e_{m(q)} - e_{m(q-1)}} \\right] [|\\tilde{x}(n-m)| - e_{m(q-1)}]\n",
    "\\end{equation}"
   ],
   "cell_type": "markdown",
   "metadata": {}
  },
  {
   "cell_type": "code",
   "execution_count": 85,
   "metadata": {},
   "outputs": [
    {
     "output_type": "execute_result",
     "data": {
      "text/plain": [
       "array([[ 0.06874848, -0.02982907],\n",
       "       [-0.04522785,  0.22038117],\n",
       "       [-0.08282102, -0.18595306],\n",
       "       [ 0.0849741 , -0.34643166]])"
      ]
     },
     "metadata": {},
     "execution_count": 85
    }
   ],
   "source": [
    "# DEFINIÇÃO DOS PARÂMETROS DO MODELO\n",
    "P = 3\n",
    "M = 1\n",
    "n = 2\n",
    "\n",
    "# DEFINIÇÃO DOS VALORES DE ENTRADA E SAÍDA DAS LUTS\n",
    "def saida_lut(entrada,M,n):\n",
    "    entrada_m = zeros((len(entrada),M+1))\n",
    "    Q = 2**n\n",
    "    z=np.linspace(0,1,Q)\n",
    "    z = [int(round(a*(len(entrada)-1))) for a in z]  \n",
    "    s_lut = np.zeros((Q))\n",
    "    \n",
    "\n",
    "    s_lut = np.zeros((Q,2))\n",
    "\n",
    "    for r in range(Q):\n",
    "        s_lut[r,0] = np.real(entrada[z[r]])\n",
    "        s_lut[r,1] = np.imag(entrada[z[r]])\n",
    "\n",
    "    return s_lut\n",
    "s_lut = saida_lut(in_ext,M,n)\n",
    "s_lut"
   ]
  },
  {
   "cell_type": "code",
   "execution_count": null,
   "metadata": {},
   "outputs": [],
   "source": []
  }
 ]
}