{
 "metadata": {
  "language_info": {
   "codemirror_mode": {
    "name": "ipython",
    "version": 3
   },
   "file_extension": ".py",
   "mimetype": "text/x-python",
   "name": "python",
   "nbconvert_exporter": "python",
   "pygments_lexer": "ipython3",
   "version": "3.7.9-final"
  },
  "orig_nbformat": 2,
  "kernelspec": {
   "name": "python3",
   "display_name": "Python 3.7.9 64-bit",
   "metadata": {
    "interpreter": {
     "hash": "4716475fc5597343ad2da5ac04705eed59773d7c903e3c421f67beef8b3526b2"
    }
   }
  }
 },
 "nbformat": 4,
 "nbformat_minor": 2,
 "cells": [
  {
   "source": [
    "Para o relatório parcial na foi necessário ser feita a reprodução do método de identificação proposto no trabalho da Carolina para o modelo MP.\n",
    "\n",
    "## Modelo MP:\n",
    "\n",
    "\\begin{equation}\n",
    "\\tilde{y}(n) = \\sum^P_{p=1}\\sum^M_{m=0} \\tilde{b}_{mp} \\tilde{x}(n-m) |\\tilde{x}(n-m)|^{p-1} \n",
    "\\end{equation}\n"
   ],
   "cell_type": "markdown",
   "metadata": {}
  },
  {
   "cell_type": "code",
   "execution_count": 1,
   "metadata": {},
   "outputs": [],
   "source": [
    "# IMPORTAÇÃO DAS BIBLIOTECAS E DADOS\n",
    "\n",
    "from scipy.io import *\n",
    "from scipy import *\n",
    "from numpy import *\n",
    "from matplotlib.pyplot import *\n",
    "\n",
    "\n",
    "mat = loadmat('data_LDMOS.mat')\n",
    "in_ext = mat['in_extraction']\n",
    "out_ext = mat['out_extraction']\n",
    "in_val = mat['in_validation']\n",
    "out_val = mat['out_validation']"
   ]
  },
  {
   "source": [
    "\\begin{equation}\n",
    "\n",
    "    X_{LUT} = \n",
    "    \\begin{bmatrix}\n",
    "        1blocodeQcolunasdalinha1 & 2blocodeQcolunasdalinha1 & \\dots & (M+1)-ésimoblocodeQcolunasdalinha1\\\\\n",
    "         & \\vdots & & \\\\\n",
    "        1blocodeQcolunasdalinha(n-M) & 2blocodeQcolunasdalinha(n-M) & \\dots & (M+1)-ésimoblocodeQcolunasdalinha(n-M)\\\\\n",
    "    \\end{bmatrix}  \n",
    "    \n",
    "    \n",
    "\\end{equation}\n",
    "\n",
    "\n",
    "\n",
    "\\begin{equation} \n",
    "    X_{LUT} = \n",
    "    \\begin{bmatrix}\n",
    "    \\tilde{x}(1+M) f_0^{LUT}(|\\tilde{x}(1+M)|) & \\tilde{x}(M) f_1^{LUT}(|\\tilde{x}(M)|) & \\dots &  \\tilde{x}(1) f_M^{LUT}(|\\tilde{x}(1)|)\\\\\n",
    "     & \\vdots & & \\\\\n",
    "    \\tilde{x}(n) f_0^{LUT}(|\\tilde{x}(n)|) & \\tilde{x}(n-1) f_1^{LUT}(|\\tilde{x}(n-1)|) & \\dots &  \\tilde{x}(n-M) f_M^{LUT}(|\\tilde{x}(n-M)|)\n",
    "    \\end{bmatrix}\n",
    "\\end{equation}\n",
    "\n",
    "\n",
    "\\begin{equation}\n",
    "    Valor_{(q-1)_{esimacoluna}} = \\tilde{x}(n-m) \\left[ 1 - \\frac{[|\\tilde{x}(n-m)| - e_{m(q-1)}]}{e_{m(q)} - e_{m(q-1)}} \\right]\n",
    "\\end{equation}\n",
    "\n",
    "\\begin{equation}\n",
    "    Valor_{(q)_{esimacoluna}} = \\tilde{x}(n-m) \\left[ \\frac{[|\\tilde{x}(n-m)| - e_{m(q-1)}]}{e_{m(q)} - e_{m(q-1)}} \\right]\n",
    "\\end{equation}\n",
    "\n",
    "\n",
    "\n",
    "\\begin{equation}\n",
    "    s = (X_{LUT}^* X_{LUT})^{-1} (X_{LUT}^* Y) =\n",
    "    \\begin{bmatrix}\n",
    "    \\tilde{s}_{01} \\\\\n",
    "    \\vdots \\\\\n",
    "    \\tilde{s}_{0Q} \\\\\n",
    "    \\vdots \\\\\n",
    "    \\tilde{s}_{M1} \\\\\n",
    "    \\vdots \\\\\n",
    "    \\tilde{s}_{MQ}\n",
    "    \\end{bmatrix}\n",
    "\\end{equation}\n"
   ],
   "cell_type": "markdown",
   "metadata": {}
  },
  {
   "cell_type": "code",
   "execution_count": 246,
   "metadata": {},
   "outputs": [],
   "source": [
    "# DEFINIÇÃO DOS PARÂMETROS DO MODELO\n",
    "P = 5\n",
    "M = 2\n",
    "\n",
    "# n é o parâmetro que define o valor de Q (número de entradas da LUT), sendo Q=2^n\n",
    "n = 1\n",
    "\n",
    "# DEFINIÇÃO DO VETOR DE ENTRADA DAS LUTs\n",
    "e_lut = linspace(0,1,2**n)\n",
    "\n",
    "\n",
    "# DEFINIÇÂO DAS MATRIZES CONTENDO OS VALORES DE x(n-m) e |x(n-m)|\n",
    "def x_n_m(entrada, M, P):\n",
    "    x_nm = empty((len(entrada),(M+1)),dtype=complex)\n",
    "    for r in range(M+1,len(entrada)):\n",
    "        for m in range(0,M+1,1):\n",
    "            x_nm[r,m] = entrada[r-m]\n",
    "    return x_nm\n",
    "\n",
    "x_nm  = x_n_m(in_ext,M,P)[M+1:-1,:]\n",
    "abs_x_nm = abs(x_nm)\n"
   ]
  },
  {
   "cell_type": "code",
   "execution_count": 247,
   "metadata": {
    "tags": []
   },
   "outputs": [
    {
     "output_type": "execute_result",
     "data": {
      "text/plain": [
       "array([[0.02452544-0.21704066j, 0.01166367-0.10321899j,\n",
       "        0.03309099-0.17495131j, 0.0099834 -0.05278202j,\n",
       "        0.047343  -0.10958357j, 0.00761603-0.01762861j],\n",
       "       [0.02254974-0.2380096j , 0.01475211-0.15570664j,\n",
       "        0.02452544-0.21704066j, 0.01166367-0.10321899j,\n",
       "        0.03309099-0.17495131j, 0.0099834 -0.05278202j],\n",
       "       [0.0272328 -0.24503633j, 0.02150343-0.19348438j,\n",
       "        0.02254974-0.2380096j , 0.01475211-0.15570664j,\n",
       "        0.02452544-0.21704066j, 0.01166367-0.10321899j],\n",
       "       ...,\n",
       "       [0.02194483-0.19063959j, 0.00766863-0.06661903j,\n",
       "        0.02432916-0.17144672j, 0.00697475-0.04915078j,\n",
       "        0.03517417-0.15074186j, 0.00832811-0.03569083j],\n",
       "       [0.02714023-0.20651418j, 0.01139862-0.08673385j,\n",
       "        0.02194483-0.19063959j, 0.00766863-0.06661903j,\n",
       "        0.02432916-0.17144672j, 0.00697475-0.04915078j],\n",
       "       [0.03849435-0.21755455j, 0.01891811-0.10691751j,\n",
       "        0.02714023-0.20651418j, 0.01139862-0.08673385j,\n",
       "        0.02194483-0.19063959j, 0.00766863-0.06661903j]])"
      ]
     },
     "metadata": {},
     "execution_count": 247
    }
   ],
   "source": [
    "def xlut(e_lut, x_nm, abs_x_nm, M, n):\n",
    "    Q = 2**n\n",
    "    x_lut = zeros((len(x_nm),Q),dtype = \"complex_\")\n",
    "    for r in range(len(x_nm)):\n",
    "        for c in range(1,Q,2):\n",
    "            if e_lut[c-1] <= abs_x_nm[r,0] <= e_lut[c]:\n",
    "                x_lut[r,c] = x_nm[r,0] * ((abs_x_nm[r,0] - e_lut[c-1])/((e_lut[c] - e_lut[c-1])))\n",
    "                x_lut[r,c-1] = x_nm[r,0] * (1 - ((abs_x_nm[r,0] - e_lut[c-1])/((e_lut[c] - e_lut[c-1]))))\n",
    "\n",
    "    if M>=1:\n",
    "        for m in range(1, M+1):\n",
    "\n",
    "            x_lut_temp = zeros((len(x_nm),Q),dtype = \"complex_\")\n",
    "            for r in range(len(x_nm)):\n",
    "                for c in range(1,Q,2):\n",
    "                    if e_lut[c-1] <= abs_x_nm[r,m] <= e_lut[c]:\n",
    "                        x_lut_temp[r,c] = x_nm[r,m] * ((abs_x_nm[r,m] - e_lut[c-1])/((e_lut[c] - e_lut[c-1])))\n",
    "                        x_lut_temp[r,c-1] = x_nm[r,m] * (1 - ((abs_x_nm[r,m] - e_lut[c-1])/((e_lut[c] - e_lut[c-1]))))\n",
    "\n",
    "            x_lut = concatenate((x_lut,x_lut_temp), axis=1)                 \n",
    "    return x_lut\n",
    "\n",
    "x_lut = xlut(e_lut, x_nm, abs_x_nm, M, n)\n",
    "x_lut"
   ]
  },
  {
   "cell_type": "code",
   "execution_count": 248,
   "metadata": {},
   "outputs": [
    {
     "output_type": "execute_result",
     "data": {
      "text/plain": [
       "array([[ 1.11720139,  0.06746139, -0.03581887, -0.01435655, -0.01774943,\n",
       "         0.00814816],\n",
       "       [ 0.70252877, -0.08186121,  0.31861196, -0.02379433, -0.12042486,\n",
       "        -0.00615358]])"
      ]
     },
     "metadata": {},
     "execution_count": 248
    }
   ],
   "source": [
    "x1 = asmatrix(x_lut).H\n",
    "s_lut = asmatrix(x1@x_lut).I@asmatrix(x1@out_ext[M+1:-1,:])\n",
    "\n",
    "lut = empty((int(len(s_lut)/(M+1)), 2*(M+1)))\n",
    "rl = 0\n",
    "for c in range(1,2*(M+1),2):\n",
    "    for r in range(2**n):\n",
    "        lut[r,c] = imag(s_lut[rl])\n",
    "        lut[r,c-1] = real(s_lut[rl])\n",
    "        rl+=1\n",
    "lut"
   ]
  },
  {
   "cell_type": "code",
   "execution_count": 249,
   "metadata": {},
   "outputs": [],
   "source": [
    "def interpolacao(entrada,lut,M,n):\n",
    "    Q = 2**n\n",
    "    z = np.linspace(0,1,Q) \n",
    "    abs_in = np.abs(entrada)\n",
    "    abs_in = abs_in[M+1:-1,:]\n",
    "    inter = np.interp(abs_in,z,lut[:,0])\n",
    "    for c in range(1,2*(M+1)):\n",
    "        inter2 = np.interp(abs_in,z,lut[:,c])\n",
    "        inter = np.append(inter,inter2,axis=1)\n",
    "    \n",
    "    real = np.zeros((len(inter),1))\n",
    "    imag = np.zeros((len(inter),1))\n",
    "    for c in range(0,2*(M+1),2):\n",
    "        real = np.add(real,inter[:,c].reshape(len(inter),1))\n",
    "        imag = np.add(imag,inter[:,c+1].reshape(len(inter),1))\n",
    "    interpol = real + (imag * 1j)\n",
    "    return interpol\n",
    "\n",
    "inter = interpolacao(in_val,lut,M,n)\n",
    "in_val_lut = in_val[M+1:-1,:]\n",
    "out_val_lut = out_val[M+1:-1,:]\n",
    "out_lut = inter*in_val_lut"
   ]
  },
  {
   "cell_type": "code",
   "execution_count": 250,
   "metadata": {},
   "outputs": [
    {
     "output_type": "stream",
     "name": "stdout",
     "text": [
      "-31.38759849608664\n"
     ]
    }
   ],
   "source": [
    "def NMSE(previsao,validacao):\n",
    "    erro = validacao - previsao\n",
    "    erro = np.sum(np.absolute(erro)**2)\n",
    "    val = np.sum(np.absolute(validacao)**2)\n",
    "    res = 10*np.log10(erro/val)\n",
    "    return res\n",
    "\n",
    "NMSE_lut = NMSE(out_lut,out_val_lut)\n",
    "print(NMSE_lut)"
   ]
  }
 ]
}